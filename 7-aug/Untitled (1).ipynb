{
 "cells": [
  {
   "cell_type": "code",
   "execution_count": 1,
   "id": "379a9aad-7af7-4955-a936-4ecbb4db8fde",
   "metadata": {},
   "outputs": [
    {
     "name": "stdout",
     "output_type": "stream",
     "text": [
      "Collecting nltk\n",
      "  Downloading nltk-3.8.2-py3-none-any.whl.metadata (2.9 kB)\n",
      "Requirement already satisfied: click in c:\\users\\rdp\\appdata\\local\\programs\\python\\python312\\lib\\site-packages (from nltk) (8.1.7)\n",
      "Requirement already satisfied: joblib in c:\\users\\rdp\\appdata\\local\\programs\\python\\python312\\lib\\site-packages (from nltk) (1.4.2)\n",
      "Collecting regex>=2021.8.3 (from nltk)\n",
      "  Downloading regex-2024.7.24-cp312-cp312-win_amd64.whl.metadata (41 kB)\n",
      "Collecting tqdm (from nltk)\n",
      "  Downloading tqdm-4.66.5-py3-none-any.whl.metadata (57 kB)\n",
      "Requirement already satisfied: colorama in c:\\users\\rdp\\appdata\\local\\programs\\python\\python312\\lib\\site-packages (from click->nltk) (0.4.6)\n",
      "Downloading nltk-3.8.2-py3-none-any.whl (1.5 MB)\n",
      "   ---------------------------------------- 0.0/1.5 MB ? eta -:--:--\n",
      "   --------------------------- ------------ 1.0/1.5 MB 6.3 MB/s eta 0:00:01\n",
      "   ---------------------------------------- 1.5/1.5 MB 6.6 MB/s eta 0:00:00\n",
      "Downloading regex-2024.7.24-cp312-cp312-win_amd64.whl (269 kB)\n",
      "Downloading tqdm-4.66.5-py3-none-any.whl (78 kB)\n",
      "Installing collected packages: tqdm, regex, nltk\n",
      "Successfully installed nltk-3.8.2 regex-2024.7.24 tqdm-4.66.5\n",
      "Note: you may need to restart the kernel to use updated packages.\n"
     ]
    }
   ],
   "source": [
    "pip install nltk"
   ]
  },
  {
   "cell_type": "code",
   "execution_count": 2,
   "id": "5dfd54be-2eed-4c25-9eff-3513029dfce5",
   "metadata": {},
   "outputs": [],
   "source": [
    "import nltk\n",
    "from nltk.tokenize import word_tokenize"
   ]
  },
  {
   "cell_type": "code",
   "execution_count": 4,
   "id": "42735287-ec84-4c42-b75b-efeb1a433300",
   "metadata": {},
   "outputs": [
    {
     "name": "stderr",
     "output_type": "stream",
     "text": [
      "[nltk_data] Downloading package punkt to\n",
      "[nltk_data]     C:\\Users\\RDP\\AppData\\Roaming\\nltk_data...\n",
      "[nltk_data]   Package punkt is already up-to-date!\n"
     ]
    },
    {
     "ename": "LookupError",
     "evalue": "\n**********************************************************************\n  Resource \u001b[93mpunkt_tab\u001b[0m not found.\n  Please use the NLTK Downloader to obtain the resource:\n\n  \u001b[31m>>> import nltk\n  >>> nltk.download('punkt_tab')\n  \u001b[0m\n  For more information see: https://www.nltk.org/data.html\n\n  Attempted to load \u001b[93mtokenizers/punkt_tab/english/\u001b[0m\n\n  Searched in:\n    - 'C:\\\\Users\\\\RDP/nltk_data'\n    - 'C:\\\\Users\\\\RDP\\\\AppData\\\\Local\\\\Programs\\\\Python\\\\Python312\\\\nltk_data'\n    - 'C:\\\\Users\\\\RDP\\\\AppData\\\\Local\\\\Programs\\\\Python\\\\Python312\\\\share\\\\nltk_data'\n    - 'C:\\\\Users\\\\RDP\\\\AppData\\\\Local\\\\Programs\\\\Python\\\\Python312\\\\lib\\\\nltk_data'\n    - 'C:\\\\Users\\\\RDP\\\\AppData\\\\Roaming\\\\nltk_data'\n    - 'C:\\\\nltk_data'\n    - 'D:\\\\nltk_data'\n    - 'E:\\\\nltk_data'\n**********************************************************************\n",
     "output_type": "error",
     "traceback": [
      "\u001b[1;31m---------------------------------------------------------------------------\u001b[0m",
      "\u001b[1;31mLookupError\u001b[0m                               Traceback (most recent call last)",
      "Cell \u001b[1;32mIn[4], line 5\u001b[0m\n\u001b[0;32m      3\u001b[0m \u001b[38;5;66;03m# Example usage of word_tokenize\u001b[39;00m\n\u001b[0;32m      4\u001b[0m text \u001b[38;5;241m=\u001b[39m \u001b[38;5;124m\"\u001b[39m\u001b[38;5;124mHello world! This is a test.\u001b[39m\u001b[38;5;124m\"\u001b[39m\n\u001b[1;32m----> 5\u001b[0m tokens \u001b[38;5;241m=\u001b[39m \u001b[43mword_tokenize\u001b[49m\u001b[43m(\u001b[49m\u001b[43mtext\u001b[49m\u001b[43m)\u001b[49m\n\u001b[0;32m      6\u001b[0m \u001b[38;5;28mprint\u001b[39m(tokens)\n",
      "File \u001b[1;32m~\\AppData\\Local\\Programs\\Python\\Python312\\Lib\\site-packages\\nltk\\tokenize\\__init__.py:129\u001b[0m, in \u001b[0;36mword_tokenize\u001b[1;34m(text, language, preserve_line)\u001b[0m\n\u001b[0;32m    114\u001b[0m \u001b[38;5;28;01mdef\u001b[39;00m \u001b[38;5;21mword_tokenize\u001b[39m(text, language\u001b[38;5;241m=\u001b[39m\u001b[38;5;124m\"\u001b[39m\u001b[38;5;124menglish\u001b[39m\u001b[38;5;124m\"\u001b[39m, preserve_line\u001b[38;5;241m=\u001b[39m\u001b[38;5;28;01mFalse\u001b[39;00m):\n\u001b[0;32m    115\u001b[0m \u001b[38;5;250m    \u001b[39m\u001b[38;5;124;03m\"\"\"\u001b[39;00m\n\u001b[0;32m    116\u001b[0m \u001b[38;5;124;03m    Return a tokenized copy of *text*,\u001b[39;00m\n\u001b[0;32m    117\u001b[0m \u001b[38;5;124;03m    using NLTK's recommended word tokenizer\u001b[39;00m\n\u001b[1;32m   (...)\u001b[0m\n\u001b[0;32m    127\u001b[0m \u001b[38;5;124;03m    :type preserve_line: bool\u001b[39;00m\n\u001b[0;32m    128\u001b[0m \u001b[38;5;124;03m    \"\"\"\u001b[39;00m\n\u001b[1;32m--> 129\u001b[0m     sentences \u001b[38;5;241m=\u001b[39m [text] \u001b[38;5;28;01mif\u001b[39;00m preserve_line \u001b[38;5;28;01melse\u001b[39;00m \u001b[43msent_tokenize\u001b[49m\u001b[43m(\u001b[49m\u001b[43mtext\u001b[49m\u001b[43m,\u001b[49m\u001b[43m \u001b[49m\u001b[43mlanguage\u001b[49m\u001b[43m)\u001b[49m\n\u001b[0;32m    130\u001b[0m     \u001b[38;5;28;01mreturn\u001b[39;00m [\n\u001b[0;32m    131\u001b[0m         token \u001b[38;5;28;01mfor\u001b[39;00m sent \u001b[38;5;129;01min\u001b[39;00m sentences \u001b[38;5;28;01mfor\u001b[39;00m token \u001b[38;5;129;01min\u001b[39;00m _treebank_word_tokenizer\u001b[38;5;241m.\u001b[39mtokenize(sent)\n\u001b[0;32m    132\u001b[0m     ]\n",
      "File \u001b[1;32m~\\AppData\\Local\\Programs\\Python\\Python312\\Lib\\site-packages\\nltk\\tokenize\\__init__.py:106\u001b[0m, in \u001b[0;36msent_tokenize\u001b[1;34m(text, language)\u001b[0m\n\u001b[0;32m     96\u001b[0m \u001b[38;5;28;01mdef\u001b[39;00m \u001b[38;5;21msent_tokenize\u001b[39m(text, language\u001b[38;5;241m=\u001b[39m\u001b[38;5;124m\"\u001b[39m\u001b[38;5;124menglish\u001b[39m\u001b[38;5;124m\"\u001b[39m):\n\u001b[0;32m     97\u001b[0m \u001b[38;5;250m    \u001b[39m\u001b[38;5;124;03m\"\"\"\u001b[39;00m\n\u001b[0;32m     98\u001b[0m \u001b[38;5;124;03m    Return a sentence-tokenized copy of *text*,\u001b[39;00m\n\u001b[0;32m     99\u001b[0m \u001b[38;5;124;03m    using NLTK's recommended sentence tokenizer\u001b[39;00m\n\u001b[1;32m   (...)\u001b[0m\n\u001b[0;32m    104\u001b[0m \u001b[38;5;124;03m    :param language: the model name in the Punkt corpus\u001b[39;00m\n\u001b[0;32m    105\u001b[0m \u001b[38;5;124;03m    \"\"\"\u001b[39;00m\n\u001b[1;32m--> 106\u001b[0m     tokenizer \u001b[38;5;241m=\u001b[39m \u001b[43mPunktTokenizer\u001b[49m\u001b[43m(\u001b[49m\u001b[43mlanguage\u001b[49m\u001b[43m)\u001b[49m\n\u001b[0;32m    107\u001b[0m     \u001b[38;5;28;01mreturn\u001b[39;00m tokenizer\u001b[38;5;241m.\u001b[39mtokenize(text)\n",
      "File \u001b[1;32m~\\AppData\\Local\\Programs\\Python\\Python312\\Lib\\site-packages\\nltk\\tokenize\\punkt.py:1744\u001b[0m, in \u001b[0;36mPunktTokenizer.__init__\u001b[1;34m(self, lang)\u001b[0m\n\u001b[0;32m   1742\u001b[0m \u001b[38;5;28;01mdef\u001b[39;00m \u001b[38;5;21m__init__\u001b[39m(\u001b[38;5;28mself\u001b[39m, lang\u001b[38;5;241m=\u001b[39m\u001b[38;5;124m\"\u001b[39m\u001b[38;5;124menglish\u001b[39m\u001b[38;5;124m\"\u001b[39m):\n\u001b[0;32m   1743\u001b[0m     PunktSentenceTokenizer\u001b[38;5;241m.\u001b[39m\u001b[38;5;21m__init__\u001b[39m(\u001b[38;5;28mself\u001b[39m)\n\u001b[1;32m-> 1744\u001b[0m     \u001b[38;5;28;43mself\u001b[39;49m\u001b[38;5;241;43m.\u001b[39;49m\u001b[43mload_lang\u001b[49m\u001b[43m(\u001b[49m\u001b[43mlang\u001b[49m\u001b[43m)\u001b[49m\n",
      "File \u001b[1;32m~\\AppData\\Local\\Programs\\Python\\Python312\\Lib\\site-packages\\nltk\\tokenize\\punkt.py:1749\u001b[0m, in \u001b[0;36mPunktTokenizer.load_lang\u001b[1;34m(self, lang)\u001b[0m\n\u001b[0;32m   1746\u001b[0m \u001b[38;5;28;01mdef\u001b[39;00m \u001b[38;5;21mload_lang\u001b[39m(\u001b[38;5;28mself\u001b[39m, lang\u001b[38;5;241m=\u001b[39m\u001b[38;5;124m\"\u001b[39m\u001b[38;5;124menglish\u001b[39m\u001b[38;5;124m\"\u001b[39m):\n\u001b[0;32m   1747\u001b[0m     \u001b[38;5;28;01mfrom\u001b[39;00m \u001b[38;5;21;01mnltk\u001b[39;00m\u001b[38;5;21;01m.\u001b[39;00m\u001b[38;5;21;01mdata\u001b[39;00m \u001b[38;5;28;01mimport\u001b[39;00m find\n\u001b[1;32m-> 1749\u001b[0m     lang_dir \u001b[38;5;241m=\u001b[39m \u001b[43mfind\u001b[49m\u001b[43m(\u001b[49m\u001b[38;5;124;43mf\u001b[39;49m\u001b[38;5;124;43m\"\u001b[39;49m\u001b[38;5;124;43mtokenizers/punkt_tab/\u001b[39;49m\u001b[38;5;132;43;01m{\u001b[39;49;00m\u001b[43mlang\u001b[49m\u001b[38;5;132;43;01m}\u001b[39;49;00m\u001b[38;5;124;43m/\u001b[39;49m\u001b[38;5;124;43m\"\u001b[39;49m\u001b[43m)\u001b[49m\n\u001b[0;32m   1750\u001b[0m     \u001b[38;5;28mself\u001b[39m\u001b[38;5;241m.\u001b[39m_params \u001b[38;5;241m=\u001b[39m load_punkt_params(lang_dir)\n\u001b[0;32m   1751\u001b[0m     \u001b[38;5;28mself\u001b[39m\u001b[38;5;241m.\u001b[39m_lang \u001b[38;5;241m=\u001b[39m lang\n",
      "File \u001b[1;32m~\\AppData\\Local\\Programs\\Python\\Python312\\Lib\\site-packages\\nltk\\data.py:582\u001b[0m, in \u001b[0;36mfind\u001b[1;34m(resource_name, paths)\u001b[0m\n\u001b[0;32m    580\u001b[0m sep \u001b[38;5;241m=\u001b[39m \u001b[38;5;124m\"\u001b[39m\u001b[38;5;124m*\u001b[39m\u001b[38;5;124m\"\u001b[39m \u001b[38;5;241m*\u001b[39m \u001b[38;5;241m70\u001b[39m\n\u001b[0;32m    581\u001b[0m resource_not_found \u001b[38;5;241m=\u001b[39m \u001b[38;5;124mf\u001b[39m\u001b[38;5;124m\"\u001b[39m\u001b[38;5;130;01m\\n\u001b[39;00m\u001b[38;5;132;01m{\u001b[39;00msep\u001b[38;5;132;01m}\u001b[39;00m\u001b[38;5;130;01m\\n\u001b[39;00m\u001b[38;5;132;01m{\u001b[39;00mmsg\u001b[38;5;132;01m}\u001b[39;00m\u001b[38;5;130;01m\\n\u001b[39;00m\u001b[38;5;132;01m{\u001b[39;00msep\u001b[38;5;132;01m}\u001b[39;00m\u001b[38;5;130;01m\\n\u001b[39;00m\u001b[38;5;124m\"\u001b[39m\n\u001b[1;32m--> 582\u001b[0m \u001b[38;5;28;01mraise\u001b[39;00m \u001b[38;5;167;01mLookupError\u001b[39;00m(resource_not_found)\n",
      "\u001b[1;31mLookupError\u001b[0m: \n**********************************************************************\n  Resource \u001b[93mpunkt_tab\u001b[0m not found.\n  Please use the NLTK Downloader to obtain the resource:\n\n  \u001b[31m>>> import nltk\n  >>> nltk.download('punkt_tab')\n  \u001b[0m\n  For more information see: https://www.nltk.org/data.html\n\n  Attempted to load \u001b[93mtokenizers/punkt_tab/english/\u001b[0m\n\n  Searched in:\n    - 'C:\\\\Users\\\\RDP/nltk_data'\n    - 'C:\\\\Users\\\\RDP\\\\AppData\\\\Local\\\\Programs\\\\Python\\\\Python312\\\\nltk_data'\n    - 'C:\\\\Users\\\\RDP\\\\AppData\\\\Local\\\\Programs\\\\Python\\\\Python312\\\\share\\\\nltk_data'\n    - 'C:\\\\Users\\\\RDP\\\\AppData\\\\Local\\\\Programs\\\\Python\\\\Python312\\\\lib\\\\nltk_data'\n    - 'C:\\\\Users\\\\RDP\\\\AppData\\\\Roaming\\\\nltk_data'\n    - 'C:\\\\nltk_data'\n    - 'D:\\\\nltk_data'\n    - 'E:\\\\nltk_data'\n**********************************************************************\n"
     ]
    }
   ],
   "source": [
    "nltk.download('punkt')\n",
    "\n",
    "# Example usage of word_tokenize\n",
    "text = \"Hello world! This is a test.\"\n",
    "tokens = word_tokenize(text)\n",
    "print(tokens)"
   ]
  },
  {
   "cell_type": "code",
   "execution_count": 5,
   "id": "96efefb3-3471-4764-ac44-1a8372097e6a",
   "metadata": {},
   "outputs": [
    {
     "name": "stdout",
     "output_type": "stream",
     "text": [
      "Collecting textblob\n",
      "  Downloading textblob-0.18.0.post0-py3-none-any.whl.metadata (4.5 kB)\n",
      "Requirement already satisfied: nltk>=3.8 in c:\\users\\rdp\\appdata\\local\\programs\\python\\python312\\lib\\site-packages (from textblob) (3.8.2)\n",
      "Requirement already satisfied: click in c:\\users\\rdp\\appdata\\local\\programs\\python\\python312\\lib\\site-packages (from nltk>=3.8->textblob) (8.1.7)\n",
      "Requirement already satisfied: joblib in c:\\users\\rdp\\appdata\\local\\programs\\python\\python312\\lib\\site-packages (from nltk>=3.8->textblob) (1.4.2)\n",
      "Requirement already satisfied: regex>=2021.8.3 in c:\\users\\rdp\\appdata\\local\\programs\\python\\python312\\lib\\site-packages (from nltk>=3.8->textblob) (2024.7.24)\n",
      "Requirement already satisfied: tqdm in c:\\users\\rdp\\appdata\\local\\programs\\python\\python312\\lib\\site-packages (from nltk>=3.8->textblob) (4.66.5)\n",
      "Requirement already satisfied: colorama in c:\\users\\rdp\\appdata\\local\\programs\\python\\python312\\lib\\site-packages (from click->nltk>=3.8->textblob) (0.4.6)\n",
      "Downloading textblob-0.18.0.post0-py3-none-any.whl (626 kB)\n",
      "   ---------------------------------------- 0.0/626.3 kB ? eta -:--:--\n",
      "   ---------------------------------------- 626.3/626.3 kB 4.7 MB/s eta 0:00:00\n",
      "Installing collected packages: textblob\n",
      "Successfully installed textblob-0.18.0.post0\n",
      "Note: you may need to restart the kernel to use updated packages.\n"
     ]
    }
   ],
   "source": [
    "pip install textblob"
   ]
  },
  {
   "cell_type": "code",
   "execution_count": 6,
   "id": "a2d5981d-16e0-4d8a-8477-b440823ce3d6",
   "metadata": {},
   "outputs": [],
   "source": [
    "from textblob import TextBlob"
   ]
  },
  {
   "cell_type": "code",
   "execution_count": 7,
   "id": "ff0729ec-1583-4b57-bcb6-01213754679c",
   "metadata": {},
   "outputs": [
    {
     "name": "stdout",
     "output_type": "stream",
     "text": [
      "0.5\n"
     ]
    }
   ],
   "source": [
    "text = \"I love using this product. It's fantastic!\"\n",
    "blob = TextBlob(text)\n",
    "sentiment = blob.sentiment.polarity\n",
    "print(sentiment)"
   ]
  },
  {
   "cell_type": "code",
   "execution_count": 8,
   "id": "865271f6-1815-4587-84f0-15e74759d1fb",
   "metadata": {},
   "outputs": [
    {
     "name": "stdout",
     "output_type": "stream",
     "text": [
      "Collecting gensim\n",
      "  Downloading gensim-4.3.3-cp312-cp312-win_amd64.whl.metadata (8.2 kB)\n",
      "Requirement already satisfied: numpy<2.0,>=1.18.5 in c:\\users\\rdp\\appdata\\local\\programs\\python\\python312\\lib\\site-packages (from gensim) (1.26.4)\n",
      "Collecting scipy<1.14.0,>=1.7.0 (from gensim)\n",
      "  Downloading scipy-1.13.1-cp312-cp312-win_amd64.whl.metadata (60 kB)\n",
      "Collecting smart-open>=1.8.1 (from gensim)\n",
      "  Downloading smart_open-7.0.4-py3-none-any.whl.metadata (23 kB)\n",
      "Requirement already satisfied: wrapt in c:\\users\\rdp\\appdata\\local\\programs\\python\\python312\\lib\\site-packages (from smart-open>=1.8.1->gensim) (1.16.0)\n",
      "Downloading gensim-4.3.3-cp312-cp312-win_amd64.whl (24.0 MB)\n",
      "   ---------------------------------------- 0.0/24.0 MB ? eta -:--:--\n",
      "   - -------------------------------------- 0.8/24.0 MB 4.8 MB/s eta 0:00:05\n",
      "   -- ------------------------------------- 1.3/24.0 MB 4.8 MB/s eta 0:00:05\n",
      "   --- ------------------------------------ 2.1/24.0 MB 3.7 MB/s eta 0:00:06\n",
      "   ---- ----------------------------------- 2.6/24.0 MB 3.4 MB/s eta 0:00:07\n",
      "   ------ --------------------------------- 4.2/24.0 MB 4.2 MB/s eta 0:00:05\n",
      "   ---------- ----------------------------- 6.0/24.0 MB 5.1 MB/s eta 0:00:04\n",
      "   ------------- -------------------------- 7.9/24.0 MB 5.7 MB/s eta 0:00:03\n",
      "   ---------------- ----------------------- 9.7/24.0 MB 6.0 MB/s eta 0:00:03\n",
      "   ------------------- -------------------- 11.8/24.0 MB 6.6 MB/s eta 0:00:02\n",
      "   ----------------------- ---------------- 14.2/24.0 MB 7.1 MB/s eta 0:00:02\n",
      "   --------------------------- ------------ 16.5/24.0 MB 7.5 MB/s eta 0:00:02\n",
      "   ----------------------------- ---------- 17.8/24.0 MB 7.4 MB/s eta 0:00:01\n",
      "   --------------------------------- ------ 20.2/24.0 MB 7.6 MB/s eta 0:00:01\n",
      "   ------------------------------------- -- 22.3/24.0 MB 7.9 MB/s eta 0:00:01\n",
      "   ---------------------------------------  23.9/24.0 MB 8.0 MB/s eta 0:00:01\n",
      "   ---------------------------------------- 24.0/24.0 MB 7.5 MB/s eta 0:00:00\n",
      "Downloading scipy-1.13.1-cp312-cp312-win_amd64.whl (45.9 MB)\n",
      "   ---------------------------------------- 0.0/45.9 MB ? eta -:--:--\n",
      "   -- ------------------------------------- 2.4/45.9 MB 11.2 MB/s eta 0:00:04\n",
      "   --- ------------------------------------ 4.5/45.9 MB 11.2 MB/s eta 0:00:04\n",
      "   ----- ---------------------------------- 6.8/45.9 MB 10.7 MB/s eta 0:00:04\n",
      "   ------- -------------------------------- 8.9/45.9 MB 10.9 MB/s eta 0:00:04\n",
      "   --------- ------------------------------ 11.3/45.9 MB 10.8 MB/s eta 0:00:04\n",
      "   ----------- ---------------------------- 13.6/45.9 MB 10.8 MB/s eta 0:00:03\n",
      "   ------------ --------------------------- 14.7/45.9 MB 10.3 MB/s eta 0:00:04\n",
      "   -------------- ------------------------- 16.3/45.9 MB 9.7 MB/s eta 0:00:04\n",
      "   --------------- ------------------------ 18.4/45.9 MB 9.7 MB/s eta 0:00:03\n",
      "   ----------------- ---------------------- 20.4/45.9 MB 9.8 MB/s eta 0:00:03\n",
      "   ------------------- -------------------- 22.8/45.9 MB 9.9 MB/s eta 0:00:03\n",
      "   --------------------- ------------------ 24.6/45.9 MB 9.8 MB/s eta 0:00:03\n",
      "   ----------------------- ---------------- 26.5/45.9 MB 9.7 MB/s eta 0:00:03\n",
      "   ------------------------- -------------- 28.8/45.9 MB 9.8 MB/s eta 0:00:02\n",
      "   -------------------------- ------------- 30.9/45.9 MB 9.8 MB/s eta 0:00:02\n",
      "   ----------------------------- ---------- 33.3/45.9 MB 9.9 MB/s eta 0:00:02\n",
      "   ------------------------------ --------- 35.4/45.9 MB 9.9 MB/s eta 0:00:02\n",
      "   -------------------------------- ------- 37.7/45.9 MB 10.0 MB/s eta 0:00:01\n",
      "   ---------------------------------- ----- 40.1/45.9 MB 10.1 MB/s eta 0:00:01\n",
      "   ------------------------------------ --- 42.2/45.9 MB 10.1 MB/s eta 0:00:01\n",
      "   -------------------------------------- - 44.6/45.9 MB 10.2 MB/s eta 0:00:01\n",
      "   ---------------------------------------  45.9/45.9 MB 10.2 MB/s eta 0:00:01\n",
      "   ---------------------------------------- 45.9/45.9 MB 9.8 MB/s eta 0:00:00\n",
      "Downloading smart_open-7.0.4-py3-none-any.whl (61 kB)\n",
      "Installing collected packages: smart-open, scipy, gensim\n",
      "  Attempting uninstall: scipy\n",
      "    Found existing installation: scipy 1.14.0\n",
      "    Uninstalling scipy-1.14.0:\n",
      "      Successfully uninstalled scipy-1.14.0\n",
      "Successfully installed gensim-4.3.3 scipy-1.13.1 smart-open-7.0.4\n",
      "Note: you may need to restart the kernel to use updated packages.\n"
     ]
    },
    {
     "name": "stderr",
     "output_type": "stream",
     "text": [
      "  WARNING: Failed to remove contents in a temporary directory 'C:\\Users\\RDP\\AppData\\Local\\Programs\\Python\\Python312\\Lib\\site-packages\\~cipy.libs'.\n",
      "  You can safely remove it manually.\n",
      "  WARNING: Failed to remove contents in a temporary directory 'C:\\Users\\RDP\\AppData\\Local\\Programs\\Python\\Python312\\Lib\\site-packages\\~cipy'.\n",
      "  You can safely remove it manually.\n"
     ]
    }
   ],
   "source": [
    "pip install gensim"
   ]
  },
  {
   "cell_type": "code",
   "execution_count": 9,
   "id": "862911d0-e1c4-4c78-830c-94016d3ac2e9",
   "metadata": {},
   "outputs": [],
   "source": [
    "import gensim\n",
    "from gensim import corpora"
   ]
  },
  {
   "cell_type": "code",
   "execution_count": 10,
   "id": "749c172b-d777-435a-8fe7-5f9b52005e5b",
   "metadata": {},
   "outputs": [],
   "source": [
    "documents = [\"Human machine interface for lab abc computer applications\",\n",
    "             \"A survey of user opinion of computer system response time\",\n",
    "             ...]"
   ]
  },
  {
   "cell_type": "code",
   "execution_count": 11,
   "id": "01c5499b-6549-4518-a383-76608184b721",
   "metadata": {},
   "outputs": [
    {
     "name": "stdout",
     "output_type": "stream",
     "text": [
      "[(0, '0.098*\"great\" + 0.097*\"tools\" + 0.097*\"Stanford\"'), (1, '0.149*\"the\" + 0.085*\"United\" + 0.085*\"Barack\"'), (2, '0.114*\"is\" + 0.114*\"Natural\" + 0.114*\"language\"')]\n"
     ]
    }
   ],
   "source": [
    "from gensim import corpora\n",
    "import gensim\n",
    "\n",
    "# Ensure documents is a list of strings\n",
    "documents = [\n",
    "    \"Barack Obama was the president of the United States.\",\n",
    "    \"Natural language processing is fascinating.\",\n",
    "    \"Stanford CoreNLP provides great tools for NLP.\"\n",
    "]\n",
    "\n",
    "# Split each document into a list of words\n",
    "texts = [doc.split() for doc in documents]\n",
    "\n",
    "# Create a dictionary representation of the documents\n",
    "dictionary = corpora.Dictionary(texts)\n",
    "\n",
    "# Convert document into the bag-of-words (BoW) format\n",
    "corpus = [dictionary.doc2bow(text) for text in texts]\n",
    "\n",
    "# Create the LDA model\n",
    "lda = gensim.models.LdaModel(corpus, num_topics=3, id2word=dictionary, passes=15)\n",
    "\n",
    "# Print the topics\n",
    "print(lda.print_topics(num_topics=3, num_words=3))\n"
   ]
  },
  {
   "cell_type": "code",
   "execution_count": 14,
   "id": "c892503a-e3c2-40f8-a09e-03bab59f889a",
   "metadata": {
    "scrolled": true
   },
   "outputs": [
    {
     "name": "stdout",
     "output_type": "stream",
     "text": [
      "Requirement already satisfied: spacy in c:\\users\\rdp\\appdata\\local\\programs\\python\\python312\\lib\\site-packages (3.7.5)\n",
      "Requirement already satisfied: spacy-legacy<3.1.0,>=3.0.11 in c:\\users\\rdp\\appdata\\local\\programs\\python\\python312\\lib\\site-packages (from spacy) (3.0.12)\n",
      "Requirement already satisfied: spacy-loggers<2.0.0,>=1.0.0 in c:\\users\\rdp\\appdata\\local\\programs\\python\\python312\\lib\\site-packages (from spacy) (1.0.5)\n",
      "Requirement already satisfied: murmurhash<1.1.0,>=0.28.0 in c:\\users\\rdp\\appdata\\local\\programs\\python\\python312\\lib\\site-packages (from spacy) (1.0.10)\n",
      "Requirement already satisfied: cymem<2.1.0,>=2.0.2 in c:\\users\\rdp\\appdata\\local\\programs\\python\\python312\\lib\\site-packages (from spacy) (2.0.8)\n",
      "Requirement already satisfied: preshed<3.1.0,>=3.0.2 in c:\\users\\rdp\\appdata\\local\\programs\\python\\python312\\lib\\site-packages (from spacy) (3.0.9)\n",
      "Requirement already satisfied: thinc<8.3.0,>=8.2.2 in c:\\users\\rdp\\appdata\\local\\programs\\python\\python312\\lib\\site-packages (from spacy) (8.2.5)\n",
      "Requirement already satisfied: wasabi<1.2.0,>=0.9.1 in c:\\users\\rdp\\appdata\\local\\programs\\python\\python312\\lib\\site-packages (from spacy) (1.1.3)\n",
      "Requirement already satisfied: srsly<3.0.0,>=2.4.3 in c:\\users\\rdp\\appdata\\local\\programs\\python\\python312\\lib\\site-packages (from spacy) (2.4.8)\n",
      "Requirement already satisfied: catalogue<2.1.0,>=2.0.6 in c:\\users\\rdp\\appdata\\local\\programs\\python\\python312\\lib\\site-packages (from spacy) (2.0.10)\n",
      "Requirement already satisfied: weasel<0.5.0,>=0.1.0 in c:\\users\\rdp\\appdata\\local\\programs\\python\\python312\\lib\\site-packages (from spacy) (0.4.1)\n",
      "Requirement already satisfied: typer<1.0.0,>=0.3.0 in c:\\users\\rdp\\appdata\\local\\programs\\python\\python312\\lib\\site-packages (from spacy) (0.12.3)\n",
      "Requirement already satisfied: tqdm<5.0.0,>=4.38.0 in c:\\users\\rdp\\appdata\\local\\programs\\python\\python312\\lib\\site-packages (from spacy) (4.66.5)\n",
      "Requirement already satisfied: requests<3.0.0,>=2.13.0 in c:\\users\\rdp\\appdata\\local\\programs\\python\\python312\\lib\\site-packages (from spacy) (2.32.3)\n",
      "Requirement already satisfied: pydantic!=1.8,!=1.8.1,<3.0.0,>=1.7.4 in c:\\users\\rdp\\appdata\\local\\programs\\python\\python312\\lib\\site-packages (from spacy) (2.8.2)\n",
      "Requirement already satisfied: jinja2 in c:\\users\\rdp\\appdata\\local\\programs\\python\\python312\\lib\\site-packages (from spacy) (3.1.4)\n",
      "Requirement already satisfied: setuptools in c:\\users\\rdp\\appdata\\local\\programs\\python\\python312\\lib\\site-packages (from spacy) (72.1.0)\n",
      "Requirement already satisfied: packaging>=20.0 in c:\\users\\rdp\\appdata\\local\\programs\\python\\python312\\lib\\site-packages (from spacy) (24.1)\n",
      "Requirement already satisfied: langcodes<4.0.0,>=3.2.0 in c:\\users\\rdp\\appdata\\local\\programs\\python\\python312\\lib\\site-packages (from spacy) (3.4.0)\n",
      "Requirement already satisfied: numpy>=1.19.0 in c:\\users\\rdp\\appdata\\local\\programs\\python\\python312\\lib\\site-packages (from spacy) (1.26.4)\n",
      "Requirement already satisfied: language-data>=1.2 in c:\\users\\rdp\\appdata\\local\\programs\\python\\python312\\lib\\site-packages (from langcodes<4.0.0,>=3.2.0->spacy) (1.2.0)\n",
      "Requirement already satisfied: annotated-types>=0.4.0 in c:\\users\\rdp\\appdata\\local\\programs\\python\\python312\\lib\\site-packages (from pydantic!=1.8,!=1.8.1,<3.0.0,>=1.7.4->spacy) (0.7.0)\n",
      "Requirement already satisfied: pydantic-core==2.20.1 in c:\\users\\rdp\\appdata\\local\\programs\\python\\python312\\lib\\site-packages (from pydantic!=1.8,!=1.8.1,<3.0.0,>=1.7.4->spacy) (2.20.1)\n",
      "Requirement already satisfied: typing-extensions>=4.6.1 in c:\\users\\rdp\\appdata\\local\\programs\\python\\python312\\lib\\site-packages (from pydantic!=1.8,!=1.8.1,<3.0.0,>=1.7.4->spacy) (4.12.2)\n",
      "Requirement already satisfied: charset-normalizer<4,>=2 in c:\\users\\rdp\\appdata\\local\\programs\\python\\python312\\lib\\site-packages (from requests<3.0.0,>=2.13.0->spacy) (3.3.2)\n",
      "Requirement already satisfied: idna<4,>=2.5 in c:\\users\\rdp\\appdata\\local\\programs\\python\\python312\\lib\\site-packages (from requests<3.0.0,>=2.13.0->spacy) (3.7)\n",
      "Requirement already satisfied: urllib3<3,>=1.21.1 in c:\\users\\rdp\\appdata\\local\\programs\\python\\python312\\lib\\site-packages (from requests<3.0.0,>=2.13.0->spacy) (2.2.2)\n",
      "Requirement already satisfied: certifi>=2017.4.17 in c:\\users\\rdp\\appdata\\local\\programs\\python\\python312\\lib\\site-packages (from requests<3.0.0,>=2.13.0->spacy) (2024.7.4)\n",
      "Requirement already satisfied: blis<0.8.0,>=0.7.8 in c:\\users\\rdp\\appdata\\local\\programs\\python\\python312\\lib\\site-packages (from thinc<8.3.0,>=8.2.2->spacy) (0.7.11)\n",
      "Requirement already satisfied: confection<1.0.0,>=0.0.1 in c:\\users\\rdp\\appdata\\local\\programs\\python\\python312\\lib\\site-packages (from thinc<8.3.0,>=8.2.2->spacy) (0.1.5)\n",
      "Requirement already satisfied: colorama in c:\\users\\rdp\\appdata\\local\\programs\\python\\python312\\lib\\site-packages (from tqdm<5.0.0,>=4.38.0->spacy) (0.4.6)\n",
      "Requirement already satisfied: click>=8.0.0 in c:\\users\\rdp\\appdata\\local\\programs\\python\\python312\\lib\\site-packages (from typer<1.0.0,>=0.3.0->spacy) (8.1.7)\n",
      "Requirement already satisfied: shellingham>=1.3.0 in c:\\users\\rdp\\appdata\\local\\programs\\python\\python312\\lib\\site-packages (from typer<1.0.0,>=0.3.0->spacy) (1.5.4)\n",
      "Requirement already satisfied: rich>=10.11.0 in c:\\users\\rdp\\appdata\\local\\programs\\python\\python312\\lib\\site-packages (from typer<1.0.0,>=0.3.0->spacy) (13.7.1)\n",
      "Requirement already satisfied: cloudpathlib<1.0.0,>=0.7.0 in c:\\users\\rdp\\appdata\\local\\programs\\python\\python312\\lib\\site-packages (from weasel<0.5.0,>=0.1.0->spacy) (0.18.1)\n",
      "Requirement already satisfied: smart-open<8.0.0,>=5.2.1 in c:\\users\\rdp\\appdata\\local\\programs\\python\\python312\\lib\\site-packages (from weasel<0.5.0,>=0.1.0->spacy) (7.0.4)\n",
      "Requirement already satisfied: MarkupSafe>=2.0 in c:\\users\\rdp\\appdata\\local\\programs\\python\\python312\\lib\\site-packages (from jinja2->spacy) (2.1.5)\n",
      "Requirement already satisfied: marisa-trie>=0.7.7 in c:\\users\\rdp\\appdata\\local\\programs\\python\\python312\\lib\\site-packages (from language-data>=1.2->langcodes<4.0.0,>=3.2.0->spacy) (1.2.0)\n",
      "Requirement already satisfied: markdown-it-py>=2.2.0 in c:\\users\\rdp\\appdata\\local\\programs\\python\\python312\\lib\\site-packages (from rich>=10.11.0->typer<1.0.0,>=0.3.0->spacy) (3.0.0)\n",
      "Requirement already satisfied: pygments<3.0.0,>=2.13.0 in c:\\users\\rdp\\appdata\\local\\programs\\python\\python312\\lib\\site-packages (from rich>=10.11.0->typer<1.0.0,>=0.3.0->spacy) (2.18.0)\n",
      "Requirement already satisfied: wrapt in c:\\users\\rdp\\appdata\\local\\programs\\python\\python312\\lib\\site-packages (from smart-open<8.0.0,>=5.2.1->weasel<0.5.0,>=0.1.0->spacy) (1.16.0)\n",
      "Requirement already satisfied: mdurl~=0.1 in c:\\users\\rdp\\appdata\\local\\programs\\python\\python312\\lib\\site-packages (from markdown-it-py>=2.2.0->rich>=10.11.0->typer<1.0.0,>=0.3.0->spacy) (0.1.2)\n",
      "Note: you may need to restart the kernel to use updated packages.\n"
     ]
    }
   ],
   "source": [
    "pip install spacy"
   ]
  },
  {
   "cell_type": "code",
   "execution_count": null,
   "id": "a4734876-260b-4982-b283-49f5f3fdde45",
   "metadata": {},
   "outputs": [],
   "source": [
    "pip uninstall torch"
   ]
  },
  {
   "cell_type": "code",
   "execution_count": 15,
   "id": "f84c9b09-5678-4da7-b135-bc51de8b73eb",
   "metadata": {},
   "outputs": [
    {
     "ename": "OSError",
     "evalue": "[WinError 126] The specified module could not be found. Error loading \"C:\\Users\\RDP\\AppData\\Local\\Programs\\Python\\Python312\\Lib\\site-packages\\torch\\lib\\fbgemm.dll\" or one of its dependencies.",
     "output_type": "error",
     "traceback": [
      "\u001b[1;31m---------------------------------------------------------------------------\u001b[0m",
      "\u001b[1;31mOSError\u001b[0m                                   Traceback (most recent call last)",
      "Cell \u001b[1;32mIn[15], line 1\u001b[0m\n\u001b[1;32m----> 1\u001b[0m \u001b[38;5;28;01mimport\u001b[39;00m \u001b[38;5;21;01mspacy\u001b[39;00m\n",
      "File \u001b[1;32m~\\AppData\\Local\\Programs\\Python\\Python312\\Lib\\site-packages\\spacy\\__init__.py:6\u001b[0m\n\u001b[0;32m      3\u001b[0m \u001b[38;5;28;01mfrom\u001b[39;00m \u001b[38;5;21;01mtyping\u001b[39;00m \u001b[38;5;28;01mimport\u001b[39;00m Any, Dict, Iterable, Union\n\u001b[0;32m      5\u001b[0m \u001b[38;5;66;03m# set library-specific custom warning handling before doing anything else\u001b[39;00m\n\u001b[1;32m----> 6\u001b[0m \u001b[38;5;28;01mfrom\u001b[39;00m \u001b[38;5;21;01m.\u001b[39;00m\u001b[38;5;21;01merrors\u001b[39;00m \u001b[38;5;28;01mimport\u001b[39;00m setup_default_warnings\n\u001b[0;32m      8\u001b[0m setup_default_warnings()  \u001b[38;5;66;03m# noqa: E402\u001b[39;00m\n\u001b[0;32m     10\u001b[0m \u001b[38;5;66;03m# These are imported as part of the API\u001b[39;00m\n",
      "File \u001b[1;32m~\\AppData\\Local\\Programs\\Python\\Python312\\Lib\\site-packages\\spacy\\errors.py:3\u001b[0m\n\u001b[0;32m      1\u001b[0m \u001b[38;5;28;01mimport\u001b[39;00m \u001b[38;5;21;01mwarnings\u001b[39;00m\n\u001b[1;32m----> 3\u001b[0m \u001b[38;5;28;01mfrom\u001b[39;00m \u001b[38;5;21;01m.\u001b[39;00m\u001b[38;5;21;01mcompat\u001b[39;00m \u001b[38;5;28;01mimport\u001b[39;00m Literal\n\u001b[0;32m      6\u001b[0m \u001b[38;5;28;01mclass\u001b[39;00m \u001b[38;5;21;01mErrorsWithCodes\u001b[39;00m(\u001b[38;5;28mtype\u001b[39m):\n\u001b[0;32m      7\u001b[0m     \u001b[38;5;28;01mdef\u001b[39;00m \u001b[38;5;21m__getattribute__\u001b[39m(\u001b[38;5;28mself\u001b[39m, code):\n",
      "File \u001b[1;32m~\\AppData\\Local\\Programs\\Python\\Python312\\Lib\\site-packages\\spacy\\compat.py:4\u001b[0m\n\u001b[0;32m      1\u001b[0m \u001b[38;5;124;03m\"\"\"Helpers for Python and platform compatibility.\"\"\"\u001b[39;00m\n\u001b[0;32m      2\u001b[0m \u001b[38;5;28;01mimport\u001b[39;00m \u001b[38;5;21;01msys\u001b[39;00m\n\u001b[1;32m----> 4\u001b[0m \u001b[38;5;28;01mfrom\u001b[39;00m \u001b[38;5;21;01mthinc\u001b[39;00m\u001b[38;5;21;01m.\u001b[39;00m\u001b[38;5;21;01mutil\u001b[39;00m \u001b[38;5;28;01mimport\u001b[39;00m copy_array\n\u001b[0;32m      6\u001b[0m \u001b[38;5;28;01mtry\u001b[39;00m:\n\u001b[0;32m      7\u001b[0m     \u001b[38;5;28;01mimport\u001b[39;00m \u001b[38;5;21;01mcPickle\u001b[39;00m \u001b[38;5;28;01mas\u001b[39;00m \u001b[38;5;21;01mpickle\u001b[39;00m\n",
      "File \u001b[1;32m~\\AppData\\Local\\Programs\\Python\\Python312\\Lib\\site-packages\\thinc\\__init__.py:5\u001b[0m\n\u001b[0;32m      2\u001b[0m \u001b[38;5;28;01mimport\u001b[39;00m \u001b[38;5;21;01mnumpy\u001b[39;00m\n\u001b[0;32m      4\u001b[0m \u001b[38;5;28;01mfrom\u001b[39;00m \u001b[38;5;21;01m.\u001b[39;00m\u001b[38;5;21;01mabout\u001b[39;00m \u001b[38;5;28;01mimport\u001b[39;00m __version__\n\u001b[1;32m----> 5\u001b[0m \u001b[38;5;28;01mfrom\u001b[39;00m \u001b[38;5;21;01m.\u001b[39;00m\u001b[38;5;21;01mconfig\u001b[39;00m \u001b[38;5;28;01mimport\u001b[39;00m registry\n\u001b[0;32m      7\u001b[0m \u001b[38;5;66;03m# fmt: off\u001b[39;00m\n\u001b[0;32m      8\u001b[0m __all__ \u001b[38;5;241m=\u001b[39m [\n\u001b[0;32m      9\u001b[0m     \u001b[38;5;124m\"\u001b[39m\u001b[38;5;124mregistry\u001b[39m\u001b[38;5;124m\"\u001b[39m,\n\u001b[0;32m     10\u001b[0m     \u001b[38;5;124m\"\u001b[39m\u001b[38;5;124m__version__\u001b[39m\u001b[38;5;124m\"\u001b[39m,\n\u001b[0;32m     11\u001b[0m ]\n",
      "File \u001b[1;32m~\\AppData\\Local\\Programs\\Python\\Python312\\Lib\\site-packages\\thinc\\config.py:5\u001b[0m\n\u001b[0;32m      2\u001b[0m \u001b[38;5;28;01mimport\u001b[39;00m \u001b[38;5;21;01mconfection\u001b[39;00m\n\u001b[0;32m      3\u001b[0m \u001b[38;5;28;01mfrom\u001b[39;00m \u001b[38;5;21;01mconfection\u001b[39;00m \u001b[38;5;28;01mimport\u001b[39;00m VARIABLE_RE, Config, ConfigValidationError, Promise\n\u001b[1;32m----> 5\u001b[0m \u001b[38;5;28;01mfrom\u001b[39;00m \u001b[38;5;21;01m.\u001b[39;00m\u001b[38;5;21;01mtypes\u001b[39;00m \u001b[38;5;28;01mimport\u001b[39;00m Decorator\n\u001b[0;32m      8\u001b[0m \u001b[38;5;28;01mclass\u001b[39;00m \u001b[38;5;21;01mregistry\u001b[39;00m(confection\u001b[38;5;241m.\u001b[39mregistry):\n\u001b[0;32m      9\u001b[0m     \u001b[38;5;66;03m# fmt: off\u001b[39;00m\n\u001b[0;32m     10\u001b[0m     optimizers: Decorator \u001b[38;5;241m=\u001b[39m catalogue\u001b[38;5;241m.\u001b[39mcreate(\u001b[38;5;124m\"\u001b[39m\u001b[38;5;124mthinc\u001b[39m\u001b[38;5;124m\"\u001b[39m, \u001b[38;5;124m\"\u001b[39m\u001b[38;5;124moptimizers\u001b[39m\u001b[38;5;124m\"\u001b[39m, entry_points\u001b[38;5;241m=\u001b[39m\u001b[38;5;28;01mTrue\u001b[39;00m)\n",
      "File \u001b[1;32m~\\AppData\\Local\\Programs\\Python\\Python312\\Lib\\site-packages\\thinc\\types.py:25\u001b[0m\n\u001b[0;32m      4\u001b[0m \u001b[38;5;28;01mfrom\u001b[39;00m \u001b[38;5;21;01mtyping\u001b[39;00m \u001b[38;5;28;01mimport\u001b[39;00m (\n\u001b[0;32m      5\u001b[0m     Any,\n\u001b[0;32m      6\u001b[0m     Callable,\n\u001b[1;32m   (...)\u001b[0m\n\u001b[0;32m     20\u001b[0m     overload,\n\u001b[0;32m     21\u001b[0m )\n\u001b[0;32m     23\u001b[0m \u001b[38;5;28;01mimport\u001b[39;00m \u001b[38;5;21;01mnumpy\u001b[39;00m\n\u001b[1;32m---> 25\u001b[0m \u001b[38;5;28;01mfrom\u001b[39;00m \u001b[38;5;21;01m.\u001b[39;00m\u001b[38;5;21;01mcompat\u001b[39;00m \u001b[38;5;28;01mimport\u001b[39;00m cupy, has_cupy\n\u001b[0;32m     27\u001b[0m \u001b[38;5;28;01mif\u001b[39;00m has_cupy:\n\u001b[0;32m     28\u001b[0m     get_array_module \u001b[38;5;241m=\u001b[39m cupy\u001b[38;5;241m.\u001b[39mget_array_module\n",
      "File \u001b[1;32m~\\AppData\\Local\\Programs\\Python\\Python312\\Lib\\site-packages\\thinc\\compat.py:35\u001b[0m\n\u001b[0;32m     31\u001b[0m     has_cupy_gpu \u001b[38;5;241m=\u001b[39m \u001b[38;5;28;01mFalse\u001b[39;00m\n\u001b[0;32m     34\u001b[0m \u001b[38;5;28;01mtry\u001b[39;00m:  \u001b[38;5;66;03m# pragma: no cover\u001b[39;00m\n\u001b[1;32m---> 35\u001b[0m     \u001b[38;5;28;01mimport\u001b[39;00m \u001b[38;5;21;01mtorch\u001b[39;00m\n\u001b[0;32m     36\u001b[0m     \u001b[38;5;28;01mimport\u001b[39;00m \u001b[38;5;21;01mtorch\u001b[39;00m\u001b[38;5;21;01m.\u001b[39;00m\u001b[38;5;21;01mutils\u001b[39;00m\u001b[38;5;21;01m.\u001b[39;00m\u001b[38;5;21;01mdlpack\u001b[39;00m\n\u001b[0;32m     38\u001b[0m     has_torch \u001b[38;5;241m=\u001b[39m \u001b[38;5;28;01mTrue\u001b[39;00m\n",
      "File \u001b[1;32m~\\AppData\\Local\\Programs\\Python\\Python312\\Lib\\site-packages\\torch\\__init__.py:148\u001b[0m\n\u001b[0;32m    146\u001b[0m                 err \u001b[38;5;241m=\u001b[39m ctypes\u001b[38;5;241m.\u001b[39mWinError(ctypes\u001b[38;5;241m.\u001b[39mget_last_error())\n\u001b[0;32m    147\u001b[0m                 err\u001b[38;5;241m.\u001b[39mstrerror \u001b[38;5;241m+\u001b[39m\u001b[38;5;241m=\u001b[39m \u001b[38;5;124mf\u001b[39m\u001b[38;5;124m'\u001b[39m\u001b[38;5;124m Error loading \u001b[39m\u001b[38;5;124m\"\u001b[39m\u001b[38;5;132;01m{\u001b[39;00mdll\u001b[38;5;132;01m}\u001b[39;00m\u001b[38;5;124m\"\u001b[39m\u001b[38;5;124m or one of its dependencies.\u001b[39m\u001b[38;5;124m'\u001b[39m\n\u001b[1;32m--> 148\u001b[0m                 \u001b[38;5;28;01mraise\u001b[39;00m err\n\u001b[0;32m    150\u001b[0m     kernel32\u001b[38;5;241m.\u001b[39mSetErrorMode(prev_error_mode)\n\u001b[0;32m    153\u001b[0m \u001b[38;5;28;01mdef\u001b[39;00m \u001b[38;5;21m_preload_cuda_deps\u001b[39m(lib_folder, lib_name):\n",
      "\u001b[1;31mOSError\u001b[0m: [WinError 126] The specified module could not be found. Error loading \"C:\\Users\\RDP\\AppData\\Local\\Programs\\Python\\Python312\\Lib\\site-packages\\torch\\lib\\fbgemm.dll\" or one of its dependencies."
     ]
    }
   ],
   "source": [
    "import spacy"
   ]
  },
  {
   "cell_type": "code",
   "execution_count": 42,
   "id": "a75ec104-e0db-497e-8b9d-aed2b5f1c8e2",
   "metadata": {},
   "outputs": [
    {
     "name": "stdout",
     "output_type": "stream",
     "text": [
      "The --> det\n",
      "cat --> nsubj\n",
      "chased --> ROOT\n",
      "the --> det\n",
      "mouse --> dobj\n"
     ]
    }
   ],
   "source": [
    "nlp = spacy.load(\"en_core_web_sm\")\n",
    "sentence = \"The cat chased the mouse\"\n",
    "doc = nlp(sentence)\n",
    "for token in doc:\n",
    "    print(token.text, \"-->\", token.dep_)"
   ]
  },
  {
   "cell_type": "code",
   "execution_count": 53,
   "id": "a55267ee-6a22-42e2-a8e8-d1320f865e3c",
   "metadata": {},
   "outputs": [],
   "source": [
    "from sklearn.feature_extraction.text import TfidfVectorizer\n",
    "from sklearn.svm import SVC\n",
    "from sklearn.pipeline import make_pipeline"
   ]
  },
  {
   "cell_type": "code",
   "execution_count": 54,
   "id": "4c7ef0df-867c-4669-b02e-89d0e1a19050",
   "metadata": {},
   "outputs": [],
   "source": [
    "from transformers import BertTokenizer, BertModel\n",
    "import torch"
   ]
  },
  {
   "cell_type": "code",
   "execution_count": 55,
   "id": "4e6a0d65-af8a-4bb8-9f09-c853100e0f24",
   "metadata": {},
   "outputs": [
    {
     "name": "stderr",
     "output_type": "stream",
     "text": [
      "A parameter name that contains `beta` will be renamed internally to `bias`. Please use a different name to suppress this warning.\n",
      "A parameter name that contains `gamma` will be renamed internally to `weight`. Please use a different name to suppress this warning.\n",
      "A parameter name that contains `beta` will be renamed internally to `bias`. Please use a different name to suppress this warning.\n",
      "A parameter name that contains `gamma` will be renamed internally to `weight`. Please use a different name to suppress this warning.\n",
      "A parameter name that contains `beta` will be renamed internally to `bias`. Please use a different name to suppress this warning.\n",
      "A parameter name that contains `gamma` will be renamed internally to `weight`. Please use a different name to suppress this warning.\n",
      "A parameter name that contains `beta` will be renamed internally to `bias`. Please use a different name to suppress this warning.\n",
      "A parameter name that contains `gamma` will be renamed internally to `weight`. Please use a different name to suppress this warning.\n",
      "A parameter name that contains `beta` will be renamed internally to `bias`. Please use a different name to suppress this warning.\n",
      "A parameter name that contains `gamma` will be renamed internally to `weight`. Please use a different name to suppress this warning.\n",
      "A parameter name that contains `beta` will be renamed internally to `bias`. Please use a different name to suppress this warning.\n",
      "A parameter name that contains `gamma` will be renamed internally to `weight`. Please use a different name to suppress this warning.\n",
      "A parameter name that contains `beta` will be renamed internally to `bias`. Please use a different name to suppress this warning.\n",
      "A parameter name that contains `gamma` will be renamed internally to `weight`. Please use a different name to suppress this warning.\n",
      "A parameter name that contains `beta` will be renamed internally to `bias`. Please use a different name to suppress this warning.\n",
      "A parameter name that contains `gamma` will be renamed internally to `weight`. Please use a different name to suppress this warning.\n",
      "A parameter name that contains `beta` will be renamed internally to `bias`. Please use a different name to suppress this warning.\n",
      "A parameter name that contains `gamma` will be renamed internally to `weight`. Please use a different name to suppress this warning.\n",
      "A parameter name that contains `beta` will be renamed internally to `bias`. Please use a different name to suppress this warning.\n",
      "A parameter name that contains `gamma` will be renamed internally to `weight`. Please use a different name to suppress this warning.\n",
      "A parameter name that contains `beta` will be renamed internally to `bias`. Please use a different name to suppress this warning.\n",
      "A parameter name that contains `gamma` will be renamed internally to `weight`. Please use a different name to suppress this warning.\n",
      "A parameter name that contains `beta` will be renamed internally to `bias`. Please use a different name to suppress this warning.\n",
      "A parameter name that contains `gamma` will be renamed internally to `weight`. Please use a different name to suppress this warning.\n",
      "A parameter name that contains `beta` will be renamed internally to `bias`. Please use a different name to suppress this warning.\n",
      "A parameter name that contains `gamma` will be renamed internally to `weight`. Please use a different name to suppress this warning.\n",
      "A parameter name that contains `beta` will be renamed internally to `bias`. Please use a different name to suppress this warning.\n",
      "A parameter name that contains `gamma` will be renamed internally to `weight`. Please use a different name to suppress this warning.\n",
      "A parameter name that contains `beta` will be renamed internally to `bias`. Please use a different name to suppress this warning.\n",
      "A parameter name that contains `gamma` will be renamed internally to `weight`. Please use a different name to suppress this warning.\n",
      "A parameter name that contains `beta` will be renamed internally to `bias`. Please use a different name to suppress this warning.\n",
      "A parameter name that contains `gamma` will be renamed internally to `weight`. Please use a different name to suppress this warning.\n",
      "A parameter name that contains `beta` will be renamed internally to `bias`. Please use a different name to suppress this warning.\n",
      "A parameter name that contains `gamma` will be renamed internally to `weight`. Please use a different name to suppress this warning.\n",
      "A parameter name that contains `beta` will be renamed internally to `bias`. Please use a different name to suppress this warning.\n",
      "A parameter name that contains `gamma` will be renamed internally to `weight`. Please use a different name to suppress this warning.\n",
      "A parameter name that contains `beta` will be renamed internally to `bias`. Please use a different name to suppress this warning.\n",
      "A parameter name that contains `gamma` will be renamed internally to `weight`. Please use a different name to suppress this warning.\n",
      "A parameter name that contains `beta` will be renamed internally to `bias`. Please use a different name to suppress this warning.\n",
      "A parameter name that contains `gamma` will be renamed internally to `weight`. Please use a different name to suppress this warning.\n",
      "A parameter name that contains `beta` will be renamed internally to `bias`. Please use a different name to suppress this warning.\n",
      "A parameter name that contains `gamma` will be renamed internally to `weight`. Please use a different name to suppress this warning.\n",
      "A parameter name that contains `beta` will be renamed internally to `bias`. Please use a different name to suppress this warning.\n",
      "A parameter name that contains `gamma` will be renamed internally to `weight`. Please use a different name to suppress this warning.\n",
      "A parameter name that contains `beta` will be renamed internally to `bias`. Please use a different name to suppress this warning.\n",
      "A parameter name that contains `gamma` will be renamed internally to `weight`. Please use a different name to suppress this warning.\n",
      "A parameter name that contains `beta` will be renamed internally to `bias`. Please use a different name to suppress this warning.\n",
      "A parameter name that contains `gamma` will be renamed internally to `weight`. Please use a different name to suppress this warning.\n",
      "A parameter name that contains `beta` will be renamed internally to `bias`. Please use a different name to suppress this warning.\n",
      "A parameter name that contains `gamma` will be renamed internally to `weight`. Please use a different name to suppress this warning.\n",
      "A parameter name that contains `beta` will be renamed internally to `bias`. Please use a different name to suppress this warning.\n",
      "A parameter name that contains `gamma` will be renamed internally to `weight`. Please use a different name to suppress this warning.\n"
     ]
    }
   ],
   "source": [
    "tokenizer = BertTokenizer.from_pretrained('bert-base-uncased')\n",
    "model = BertModel.from_pretrained(\"bert-base-uncased\")"
   ]
  },
  {
   "cell_type": "code",
   "execution_count": 56,
   "id": "32453600-493f-4425-b0c7-203c121d73a7",
   "metadata": {},
   "outputs": [
    {
     "name": "stdout",
     "output_type": "stream",
     "text": [
      "tensor([[ 6.1567e-01,  1.9332e-02, -1.5932e-01,  1.4564e-01,  2.3157e-01,\n",
      "         -6.7799e-01,  3.1471e-01,  5.7741e-01, -1.5036e-01, -3.2838e-01,\n",
      "          1.9414e-01, -4.9269e-01, -8.4917e-02,  4.7892e-01, -4.0396e-01,\n",
      "         -1.0605e-01, -2.6022e-01,  2.1382e-01,  7.5642e-02,  3.4413e-01,\n",
      "          3.2916e-02, -1.7241e-01, -4.1208e-03,  2.1923e-01,  2.6813e-01,\n",
      "         -1.6110e-01, -1.4636e-01,  3.3022e-02,  2.7150e-02, -1.1719e-01,\n",
      "          1.4868e-01,  1.6975e-01,  1.0013e-01,  7.4800e-02, -1.9620e-01,\n",
      "         -1.0436e-01, -3.5801e-01,  4.4453e-02, -3.7246e-01, -1.5896e-01,\n",
      "         -4.8127e-01, -5.4471e-01,  2.4125e-01,  1.5255e-01, -9.4811e-02,\n",
      "         -4.0483e-01, -1.9780e-01, -1.3423e-01,  6.7088e-02, -2.7246e-01,\n",
      "          3.2713e-01,  7.8723e-02, -3.1125e-01,  1.3526e-01,  1.5851e-01,\n",
      "          5.3644e-01, -3.7605e-01, -3.6336e-01, -7.5914e-02, -2.8274e-02,\n",
      "         -8.6208e-02,  6.4535e-02, -4.3906e-02, -6.1880e-01,  5.1094e-02,\n",
      "          1.1589e-01,  1.5263e-01,  2.8569e-01, -2.1657e-01, -1.9828e-01,\n",
      "         -2.1734e-01, -1.8618e-01, -6.9131e-03,  2.0343e-02, -2.6870e-01,\n",
      "         -9.0043e-02, -3.5640e-01,  2.4784e-01,  1.1665e-01, -2.2615e-01,\n",
      "          1.0334e-01,  6.5447e-01,  2.2471e-02,  5.5867e-01, -9.9963e-02,\n",
      "          4.5234e-01, -3.1990e-01, -3.0945e-01, -2.5532e-01,  5.1874e-01,\n",
      "         -3.1563e-01, -2.1941e-01,  7.9416e-02,  4.8094e-01,  7.8541e-01,\n",
      "         -7.5711e-02, -9.7277e-02, -2.4342e-01, -4.3749e-01,  1.9923e-01,\n",
      "          1.7647e-01, -2.9730e-02,  7.8033e-02,  7.3549e-02,  5.5776e-02,\n",
      "         -4.7512e-02,  2.9932e-01, -1.3754e-01,  4.4039e-01, -2.1510e-01,\n",
      "          3.8740e-01, -2.1447e-01,  3.0017e-02, -2.5596e-01, -4.6454e-01,\n",
      "          6.0227e-01,  6.3353e-01, -1.3697e-01,  2.4180e-01,  4.4994e-02,\n",
      "         -3.5886e-01, -2.6148e-01,  2.3712e-01,  1.2173e+00, -1.4770e-02,\n",
      "          3.5673e-02, -1.7754e-01, -8.6822e-02, -7.7883e-02, -2.0856e-01,\n",
      "         -4.8389e-02,  4.4723e-01,  4.4607e-01, -4.0858e-01, -2.3352e-01,\n",
      "          1.1668e-01, -4.4390e-02, -1.9562e-01, -4.8267e-01,  1.4496e-01,\n",
      "          1.9968e-01,  3.2352e-01, -1.9060e-01,  9.8358e-03,  1.9776e-01,\n",
      "         -1.5533e-01, -2.5024e-01,  1.3930e-01, -8.6412e-02, -2.9035e-01,\n",
      "          5.2571e-02, -2.9555e-01, -3.2443e-01, -5.5579e-01,  8.8567e-02,\n",
      "         -3.8295e-01, -3.0049e-01,  5.3978e-02,  5.5150e-01,  2.4225e-01,\n",
      "         -1.0738e-01, -2.4775e-01, -2.5263e-01,  1.4260e-01, -6.4184e-01,\n",
      "          1.6897e-01,  3.7840e-01,  4.8421e-01, -2.5649e-03,  2.5229e-01,\n",
      "         -2.6410e-02,  5.2281e-02,  6.8853e-01,  5.4259e-01,  3.7372e-01,\n",
      "         -1.4863e-01,  3.6289e-01,  2.1182e-01, -4.7284e-03,  2.2426e-01,\n",
      "         -1.4651e+00,  3.5942e-01,  1.9441e-01, -7.1842e-02,  3.2623e-01,\n",
      "         -2.3369e-01,  2.8471e-01, -3.2438e-01, -2.2865e-01, -8.6659e-02,\n",
      "          6.9156e-02,  1.6148e-02,  7.2540e-03, -3.1838e-02,  2.6783e-01,\n",
      "         -1.5917e-01,  5.5163e-02, -2.9646e-01,  1.1048e-01, -2.6365e-02,\n",
      "          2.6176e-01, -7.4708e-02,  2.6470e-01,  5.1603e-01, -3.5229e-01,\n",
      "          6.0610e-01,  1.3384e-01, -1.7438e-01,  1.2914e-01, -2.8680e-01,\n",
      "         -2.1296e-01,  4.1604e-01, -9.5553e-02, -2.1884e-01,  2.6657e-02,\n",
      "         -5.7749e-02,  5.3256e-02,  1.2284e-01, -3.8332e-01, -3.2581e-01,\n",
      "          3.6714e-01, -4.9917e-02, -3.2318e-01,  9.1368e-03, -6.8559e-02,\n",
      "          3.2406e-01,  3.3017e-01,  3.5881e-02, -1.0519e-02,  5.0474e-02,\n",
      "         -1.1306e-01, -2.5920e-01,  1.5665e-01,  6.6805e-02, -3.0350e-01,\n",
      "         -3.5801e-01, -3.3851e-01, -4.2981e-01,  1.4972e-01, -9.6908e-02,\n",
      "         -3.4908e-01,  4.0211e-01,  5.1911e-01,  1.6201e-01,  2.6493e-01,\n",
      "         -1.6975e-02,  3.6240e-01,  9.4961e-02,  3.5856e-01, -1.8848e-01,\n",
      "         -2.8511e-01, -7.4896e-01,  1.4928e-01, -3.7542e-01,  3.1767e-01,\n",
      "         -1.7176e-01, -2.6564e-01,  1.8304e-01, -6.5078e-02,  1.3753e-01,\n",
      "          7.0845e-01, -2.3651e-01,  6.7641e-01,  3.8203e-02, -1.7729e-01,\n",
      "         -5.1034e-01, -9.9743e-03,  4.3177e-01,  1.8143e-01,  3.4152e-01,\n",
      "          1.9687e-01,  7.5723e-02,  4.3733e-01, -4.2385e-01,  2.9835e-01,\n",
      "         -6.7995e-01,  4.0724e-01,  1.2844e-02,  3.4856e-01, -1.8147e-01,\n",
      "          8.3175e-02,  7.6587e-01, -8.1165e-01,  9.3678e-03,  6.7009e-02,\n",
      "         -1.5976e-01, -6.0571e-03, -1.7284e-01,  1.0974e-01, -5.1785e-01,\n",
      "         -3.4532e-01, -1.9244e-01, -4.7992e-01, -3.6364e-01,  2.4947e-01,\n",
      "         -2.4295e-01,  3.6877e-01, -1.2465e-02, -1.7171e-01, -1.0259e-01,\n",
      "         -1.6451e-01, -3.6941e-02, -7.3399e-02,  6.6603e-02, -4.1195e-01,\n",
      "         -5.4613e-02,  1.3650e-01, -5.1212e-01, -2.4889e+00, -1.4792e-01,\n",
      "         -1.2417e-01, -3.0102e-01,  2.8895e-01, -1.1725e-01,  2.4055e-01,\n",
      "          1.3115e-01, -6.6371e-01, -1.8009e-02,  4.5755e-01, -1.7305e-01,\n",
      "          2.1111e-01,  3.9123e-01, -4.5735e-01, -3.2831e-01,  2.1197e-01,\n",
      "         -1.9237e-01, -2.0773e-01,  4.3930e-01,  3.6255e-02, -4.3270e-01,\n",
      "         -1.6817e-03, -4.5929e-01,  6.6877e-01, -8.1259e-02, -2.3745e-01,\n",
      "          1.5326e-01, -3.4908e-01,  3.1941e-01, -1.5338e-01, -3.2457e-01,\n",
      "         -3.6539e-01,  1.2292e-01,  6.9962e-02, -2.8816e-01,  1.0122e-01,\n",
      "         -6.8863e-02,  2.7015e-02, -1.8292e-01,  3.3469e-01, -1.9145e-01,\n",
      "          1.8416e-01, -2.5485e-02,  7.7361e-01, -5.8251e-01,  4.6873e-02,\n",
      "          5.3834e-02,  2.4589e-02, -2.5421e-01,  5.0673e-01, -1.1861e-01,\n",
      "          3.4511e-01, -1.8523e-01,  3.2657e-03, -3.3638e-01,  3.1746e-01,\n",
      "          8.3995e-01, -1.7038e-01, -1.2635e-01,  4.0140e-01, -1.2120e-01,\n",
      "         -1.2698e-01,  3.5402e-01, -8.4102e-02, -6.2860e-02, -5.2577e-01,\n",
      "         -3.0708e-01, -1.0618e-01, -4.3965e-02, -1.1504e-01, -2.8706e-02,\n",
      "         -6.6800e-01, -1.1907e+00, -1.6428e-01, -1.8926e-01,  1.5424e-02,\n",
      "          1.1978e-01,  3.1277e-01, -1.3833e-01, -2.4502e-01, -2.8979e-01,\n",
      "         -3.3943e-01, -4.0579e-02,  3.8640e-02, -1.9040e-01, -4.9619e-02,\n",
      "         -1.7703e-01,  1.9536e-01, -4.4508e-01,  2.5607e-01,  2.6170e-01,\n",
      "          1.6622e-01,  2.7629e-01,  3.5871e-01, -1.0126e-01,  2.2347e-01,\n",
      "          1.4920e-01,  2.3418e-01,  2.9835e-01, -6.3818e-01, -8.3849e-02,\n",
      "          4.9904e-01,  5.9796e-02,  4.1145e-01, -2.6090e-02, -4.4944e-01,\n",
      "          3.5163e-02, -8.4830e-03,  2.4845e-01, -7.0557e-02, -4.5293e-01,\n",
      "          1.6558e-01, -2.9991e-01, -1.0718e-02, -2.5288e-02,  3.6278e-01,\n",
      "          8.4245e-01,  1.7630e-01,  3.4045e-01, -3.4490e-01,  5.4748e-01,\n",
      "         -1.6706e-01,  7.3173e-03,  7.0943e-02,  8.9544e-03, -4.5471e-03,\n",
      "          7.8300e-02, -1.0854e-01, -3.8980e-01, -2.2141e-02, -5.4855e-02,\n",
      "         -6.1579e-02,  5.9823e-02, -8.8532e-03,  1.0173e-02, -2.2166e-01,\n",
      "         -3.0068e-01, -1.6547e-01,  6.3119e-01,  6.6469e-02,  2.3135e-01,\n",
      "         -3.2283e-01,  1.4132e-02,  1.3430e-02,  4.6345e-01,  3.7452e-02,\n",
      "          2.1293e-01, -1.3396e-01,  3.0414e-01,  4.5700e-04, -2.6978e-01,\n",
      "         -6.4261e-02, -6.6791e-01,  2.0261e-01, -1.7153e-01,  4.4014e-01,\n",
      "          1.1800e-02, -2.0405e-01, -7.1314e-01,  4.0895e-03,  3.9671e-01,\n",
      "          2.3046e-01,  2.2947e-01,  3.3616e-01,  2.4646e-01,  1.3888e-01,\n",
      "         -2.6441e-01, -3.5656e-01,  1.5965e-01,  9.9005e-02,  9.9819e-02,\n",
      "         -1.5671e-02, -3.5972e-01,  5.6910e-02,  3.8108e-01,  1.7959e-01,\n",
      "         -2.0752e-01, -2.3046e-01, -1.2353e-01, -1.3350e-01,  2.4013e-02,\n",
      "         -4.2115e-01, -1.8459e-01,  3.4175e-01,  3.0853e-01, -5.4672e-02,\n",
      "         -3.6435e-02,  7.3903e-02,  1.6018e-01, -7.3301e-02,  5.6965e-01,\n",
      "         -3.4155e-01, -8.5612e-01, -7.8647e-01, -4.2172e-02,  4.1301e-01,\n",
      "         -6.3375e-01,  2.6497e-01,  1.2658e-01,  1.4632e-01,  5.2795e-02,\n",
      "         -1.6771e-01,  1.6872e-01,  9.6629e-02, -6.7972e-02, -1.1823e-01,\n",
      "          5.8824e-01, -3.7234e-01,  4.4453e-01,  2.1753e-01, -5.6323e-01,\n",
      "         -6.2250e-02,  1.4026e-01,  2.5293e-01,  2.9775e-01,  1.4778e-01,\n",
      "          1.4068e-01, -1.5183e-01, -1.5129e-01, -7.7589e-01, -2.6730e-01,\n",
      "         -1.5495e-02,  3.0476e-01, -4.4396e-01, -6.1584e-01, -5.5218e-01,\n",
      "         -5.2859e-02, -3.1002e-01, -4.0063e-01,  1.7496e-01,  3.3215e-01,\n",
      "          1.7030e-01,  1.1588e-01,  5.5403e-02,  7.6122e-01, -5.3474e-01,\n",
      "         -1.4469e-01,  4.2805e-01, -2.2607e-01, -2.1287e-01, -5.6127e-01,\n",
      "         -1.6012e-01,  4.1120e-03,  3.2774e-01, -1.4325e-01, -3.8732e-02,\n",
      "          9.7162e-01,  2.7113e-02,  6.6549e-02, -3.8638e-01,  1.8259e-01,\n",
      "         -4.8021e-01, -5.0573e-01,  1.2129e-01, -9.2765e-01, -1.3170e-01,\n",
      "          1.9804e-01, -2.7308e-01, -2.4696e-01, -4.8446e-01,  1.3503e-01,\n",
      "         -6.8295e-02, -1.5855e-01,  1.3232e-01, -2.2723e-02, -2.1053e-01,\n",
      "         -4.9042e-02,  1.4162e-01,  2.7638e-01, -4.0829e-01,  4.2890e-02,\n",
      "          4.5369e-02, -1.5871e-01, -1.7859e-01, -1.6530e-01,  2.3627e-01,\n",
      "         -7.8082e-01, -3.0914e-02, -2.6395e-01,  3.5171e-01,  1.0139e+00,\n",
      "         -7.1577e-02, -3.4069e-01,  3.1629e-01, -1.6573e-01, -3.2459e-02,\n",
      "          2.5777e-01, -1.9410e-01,  5.0951e-01,  4.4777e-02, -7.6943e-03,\n",
      "          1.2687e-01,  4.5491e-02,  5.8372e-01, -2.1432e-02,  2.3369e-01,\n",
      "         -1.9479e-03, -2.4761e-01,  3.8967e-02, -3.3743e-01,  2.3566e-01,\n",
      "          3.5594e-01,  2.3296e-02,  5.7219e-02,  2.3045e-01, -1.8263e-01,\n",
      "          6.6762e-02, -8.2095e-02,  3.0581e-01, -5.3932e-01, -1.9063e-01,\n",
      "          8.2752e-02,  7.5253e-01, -4.8636e-01,  5.2328e-02,  4.2219e-01,\n",
      "         -6.6447e-01, -4.1197e-01,  3.6227e-01, -1.7166e-03, -3.7080e-01,\n",
      "          5.8569e-02,  1.8212e-01,  1.5066e-01,  5.8318e-01, -2.8589e-01,\n",
      "         -3.4866e-01,  2.9764e-01,  2.2861e-01,  3.2405e-01,  3.0941e-01,\n",
      "         -4.1477e-01,  4.7419e-01, -2.1898e-01, -3.6385e-01,  1.7688e-01,\n",
      "          5.4496e-01,  2.0938e-01,  4.9518e-01,  2.0853e-01,  1.7279e-01,\n",
      "          3.0388e-01,  4.0521e-01, -2.7925e-01,  2.5411e-01, -4.6937e-02,\n",
      "         -1.2514e-01,  4.6621e-01,  8.4957e-02, -6.5450e-02,  9.3740e-02,\n",
      "         -1.5614e-01, -3.3816e-01,  5.0624e-01, -2.6871e-01,  6.4063e-02,\n",
      "          1.2895e-01,  5.4488e-01, -6.3117e-01,  1.1260e-01,  1.4322e-01,\n",
      "         -7.0061e-03, -6.6109e-01,  5.1791e-01,  3.2403e-01, -1.2092e-01,\n",
      "          3.4728e-01, -3.0572e-01, -2.4099e-01,  9.5735e-02,  2.8987e-02,\n",
      "         -2.0460e-01, -1.7730e-01, -6.7806e-02,  5.3020e-01, -4.4035e-01,\n",
      "         -4.3117e-01, -1.9076e-01, -7.8112e-02,  2.1323e-02,  3.6470e-01,\n",
      "         -5.9615e-01, -4.7912e-02,  3.4927e-01, -1.4851e-01, -1.6460e-01,\n",
      "         -5.0337e-02,  3.6974e-01, -3.9202e-01,  1.5259e-01, -2.8096e-01,\n",
      "          1.0336e-01, -1.5499e-01,  3.0415e-02, -3.0554e-01,  1.7787e-01,\n",
      "          2.5738e-02,  1.8269e-01,  1.4650e-01,  8.6821e-01, -2.3381e-01,\n",
      "         -2.5370e-01,  1.2657e-01, -4.1267e-02,  4.4999e-02,  1.4867e-01,\n",
      "          7.4976e-02, -2.0876e-01, -2.2114e-01, -1.9113e-01,  2.7600e-01,\n",
      "         -1.0073e+00,  1.7322e-01, -2.9033e-01, -7.6221e-02,  1.4172e-01,\n",
      "          4.0926e-02, -1.5639e-01,  1.4117e-01, -1.6795e-01, -4.5422e-02,\n",
      "         -2.7775e-01,  1.7716e-01, -3.6398e-01,  3.6095e-01,  9.6544e-02,\n",
      "          2.3250e-01, -3.6441e-01,  9.7898e-02, -6.0278e-02,  4.6606e-01,\n",
      "          3.2729e-02,  9.3946e-02,  4.2715e-02, -3.1827e-01,  9.2330e-02,\n",
      "          2.0776e-02, -4.6721e-02, -4.0667e-01,  5.0632e-01,  7.9851e-02,\n",
      "          5.5314e-02, -2.0643e-01, -1.8331e+00, -2.0792e-01, -1.9896e-01,\n",
      "         -1.3355e-02,  2.3254e-01, -5.6108e-01,  1.4717e-02,  5.3858e-02,\n",
      "          2.8444e-02, -4.6887e-01,  1.1575e-01, -2.7166e-01, -2.2144e-02,\n",
      "         -1.4970e-01,  3.3084e-01, -1.8832e-01]])\n"
     ]
    }
   ],
   "source": [
    "text = \"Transformers are amazing!\"\n",
    "inputs = tokenizer(text, return_tensors=\"pt\")\n",
    "with torch.no_grad():\n",
    "    outputs = model(**inputs)\n",
    "    embeddings = outputs.last_hidden_state.mean(dim=1)\n",
    "print(embeddings)"
   ]
  },
  {
   "cell_type": "code",
   "execution_count": null,
   "id": "9ff2e0d5-5bdd-4db1-939e-40a7958a4fd4",
   "metadata": {},
   "outputs": [],
   "source": []
  },
  {
   "cell_type": "code",
   "execution_count": null,
   "id": "1943f44b-7790-4c23-8d01-dbfbbc40a7dc",
   "metadata": {},
   "outputs": [],
   "source": []
  }
 ],
 "metadata": {
  "kernelspec": {
   "display_name": "Python 3 (ipykernel)",
   "language": "python",
   "name": "python3"
  },
  "language_info": {
   "codemirror_mode": {
    "name": "ipython",
    "version": 3
   },
   "file_extension": ".py",
   "mimetype": "text/x-python",
   "name": "python",
   "nbconvert_exporter": "python",
   "pygments_lexer": "ipython3",
   "version": "3.12.3"
  }
 },
 "nbformat": 4,
 "nbformat_minor": 5
}
